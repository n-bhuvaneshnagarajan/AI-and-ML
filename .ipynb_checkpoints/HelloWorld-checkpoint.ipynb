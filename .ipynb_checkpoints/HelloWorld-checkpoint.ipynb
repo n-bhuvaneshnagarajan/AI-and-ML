{
 "cells": [
  {
   "cell_type": "code",
   "execution_count": 3,
   "id": "a6e9ad4b",
   "metadata": {},
   "outputs": [
    {
     "data": {
      "text/plain": [
       "array(['HipHop'], dtype=object)"
      ]
     },
     "execution_count": 3,
     "metadata": {},
     "output_type": "execute_result"
    }
   ],
   "source": [
    "import pandas as pd\n",
    "from sklearn.tree import DecisionTreeClassifier\n",
    "import joblib\n",
    "from sklearn.model_selection import train_test_split \n",
    "from sklearn.metrics import accuracy_score \n",
    "\n",
    "music_data = pd.read_csv('music.csv')\n",
    "x = music_data.drop(columns=['genre'])\n",
    "y=music_data['genre'] \n",
    "x_train,x_test, y_train,y_test = train_test_split(x,y,test_size= 0.2)\n",
    "\n",
    "# model=DecisionTreeClassifier() \n",
    "# model.fit(x_train,y_train)\n",
    "# joblib.dump(model,'music-recomender.joblib')\n",
    "\n",
    "\n",
    "# predictions= model.predict(x_test)\n",
    "# score = accuracy_score(y_test,predictions)\n",
    "# score\n",
    "\n",
    "model = joblib.load('music-recomender.joblib')\n",
    "predictions = model.predict([[21,1]])\n",
    "predictions\n"
   ]
  },
  {
   "cell_type": "code",
   "execution_count": 5,
   "id": "7b34e872",
   "metadata": {},
   "outputs": [],
   "source": [
    "import pandas as pd\n",
    "from sklearn.tree import DecisionTreeClassifier\n",
    "from sklearn import tree\n",
    "\n",
    "music_data = pd.read_csv('music.csv')\n",
    "x = music_data.drop(columns=['genre'])\n",
    "y = music_data['genre']\n",
    "model=DecisionTreeClassifier()\n",
    "model.fit(x,y)\n",
    "tree.export_graphviz(model,out_file=\"music-recomender.dot\",\n",
    "                     feature_names=['age','gender'],\n",
    "                     class_names= sorted(y.unique()),\n",
    "                     label = 'all',\n",
    "                     rounded=True,\n",
    "                     filled=True) \n",
    "                     "
   ]
  },
  {
   "cell_type": "code",
   "execution_count": null,
   "id": "944fa6b0",
   "metadata": {},
   "outputs": [],
   "source": []
  }
 ],
 "metadata": {
  "kernelspec": {
   "display_name": "Python 3",
   "language": "python",
   "name": "python3"
  },
  "language_info": {
   "codemirror_mode": {
    "name": "ipython",
    "version": 3
   },
   "file_extension": ".py",
   "mimetype": "text/x-python",
   "name": "python",
   "nbconvert_exporter": "python",
   "pygments_lexer": "ipython3",
   "version": "3.8.8"
  }
 },
 "nbformat": 4,
 "nbformat_minor": 5
}
